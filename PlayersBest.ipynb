{
 "cells": [
  {
   "cell_type": "markdown",
   "metadata": {},
   "source": [
    "# Fifa Awards 2017\n",
    "\n",
    "The Fifa honored best football performers with Fifa Awards. The rules of the voting can be found under [1], but in short coaches, captains of national teams, and media representatives from all associated countries selected the best male and female player, best coach, etc. \n",
    "\n",
    "Results for FIFA MEN'S WORLD PLAYER 2017 can be found [2], the votes [3], and the rules [1]. In the following we will analyze the results, and identify some discrepancies. \n",
    "\n",
    "There are at least two issues identified. Firstly, the rules of allocation state that voters chose from a list of 23 male players compiled by a panel of experts. There are, however, 24 players in the official results list [2]. Secondly, the percentage results derived from votes [3] differ from the official results [2].\n",
    "\n",
    "[1] http://resources.fifa.com/mm/document/the-best/general/02/90/27/31/fifaawards2017_thebestawards_rulesofallocation_v5_en_neutral.pdf\n",
    "\n",
    "[2] http://resources.fifa.com/mm/document/the-best/general/02/91/68/84/fullresults-tbffa_award_rankingpresslist2017_neutral.pdf\n",
    "\n",
    "[3] http://resources.fifa.com/mm/document/the-best/playeroftheyear-men/02/91/68/49/faward_menplayer2017_neutral.pdf"
   ]
  },
  {
   "cell_type": "code",
   "execution_count": 2,
   "metadata": {},
   "outputs": [],
   "source": [
    "import pandas as pd\n",
    "import numpy as np"
   ]
  },
  {
   "cell_type": "code",
   "execution_count": 3,
   "metadata": {},
   "outputs": [],
   "source": [
    "df = pd.read_csv('./player-votes.csv', index_col=0)"
   ]
  },
  {
   "cell_type": "code",
   "execution_count": 50,
   "metadata": {},
   "outputs": [
    {
     "data": {
      "text/html": [
       "<div>\n",
       "<style>\n",
       "    .dataframe thead tr:only-child th {\n",
       "        text-align: right;\n",
       "    }\n",
       "\n",
       "    .dataframe thead th {\n",
       "        text-align: left;\n",
       "    }\n",
       "\n",
       "    .dataframe tbody tr th {\n",
       "        vertical-align: top;\n",
       "    }\n",
       "</style>\n",
       "<table border=\"1\" class=\"dataframe\">\n",
       "  <thead>\n",
       "    <tr style=\"text-align: right;\">\n",
       "      <th></th>\n",
       "      <th>Vote</th>\n",
       "      <th>Country</th>\n",
       "      <th>Name</th>\n",
       "      <th>First</th>\n",
       "      <th>Second</th>\n",
       "      <th>Third</th>\n",
       "    </tr>\n",
       "  </thead>\n",
       "  <tbody>\n",
       "    <tr>\n",
       "      <th>366</th>\n",
       "      <td>Media</td>\n",
       "      <td>Guatemala</td>\n",
       "      <td>Solares Lucho</td>\n",
       "      <td>Cristiano Ronaldo</td>\n",
       "      <td>Messi Lionel</td>\n",
       "      <td>Navas Keylor</td>\n",
       "    </tr>\n",
       "    <tr>\n",
       "      <th>382</th>\n",
       "      <td>Media</td>\n",
       "      <td>Kuwait</td>\n",
       "      <td>Adnad Yousif</td>\n",
       "      <td>Cristiano Ronaldo</td>\n",
       "      <td>Messi Lionel</td>\n",
       "      <td>Kroos Toni</td>\n",
       "    </tr>\n",
       "  </tbody>\n",
       "</table>\n",
       "</div>"
      ],
      "text/plain": [
       "      Vote    Country           Name              First        Second  \\\n",
       "366  Media  Guatemala  Solares Lucho  Cristiano Ronaldo  Messi Lionel   \n",
       "382  Media     Kuwait   Adnad Yousif  Cristiano Ronaldo  Messi Lionel   \n",
       "\n",
       "            Third  \n",
       "366  Navas Keylor  \n",
       "382    Kroos Toni  "
      ]
     },
     "execution_count": 50,
     "metadata": {},
     "output_type": "execute_result"
    }
   ],
   "source": [
    "#Kuwait and Guatemala are suspended\n",
    "# but only media votes are on the list, so I guess they are intendet to be included\n",
    "df.loc[df.Country.isin(['Kuwait','Guatemala'])]\n",
    "# if you want to remove them from the set uncoment the following\n",
    "#df = df.loc[~df.Country.isin(['Kuwait','Guatemala'])]"
   ]
  },
  {
   "cell_type": "code",
   "execution_count": 4,
   "metadata": {},
   "outputs": [
    {
     "data": {
      "text/html": [
       "<div>\n",
       "<style>\n",
       "    .dataframe thead tr:only-child th {\n",
       "        text-align: right;\n",
       "    }\n",
       "\n",
       "    .dataframe thead th {\n",
       "        text-align: left;\n",
       "    }\n",
       "\n",
       "    .dataframe tbody tr th {\n",
       "        vertical-align: top;\n",
       "    }\n",
       "</style>\n",
       "<table border=\"1\" class=\"dataframe\">\n",
       "  <thead>\n",
       "    <tr style=\"text-align: right;\">\n",
       "      <th></th>\n",
       "      <th>Vote</th>\n",
       "      <th>Country</th>\n",
       "      <th>Name</th>\n",
       "      <th>First</th>\n",
       "      <th>Second</th>\n",
       "      <th>Third</th>\n",
       "    </tr>\n",
       "  </thead>\n",
       "  <tbody>\n",
       "    <tr>\n",
       "      <th>0</th>\n",
       "      <td>Captain</td>\n",
       "      <td>Albania</td>\n",
       "      <td>Agolli Ansi</td>\n",
       "      <td>Cristiano Ronaldo</td>\n",
       "      <td>Messi Lionel</td>\n",
       "      <td>Buffon Gianluigi</td>\n",
       "    </tr>\n",
       "    <tr>\n",
       "      <th>1</th>\n",
       "      <td>Captain</td>\n",
       "      <td>Algeria</td>\n",
       "      <td>Mbolhi Adi Rais</td>\n",
       "      <td>Cristiano Ronaldo</td>\n",
       "      <td>Buffon Gianluigi</td>\n",
       "      <td>Messi Lionel</td>\n",
       "    </tr>\n",
       "    <tr>\n",
       "      <th>2</th>\n",
       "      <td>Captain</td>\n",
       "      <td>American Samoa</td>\n",
       "      <td>Ott Ramin</td>\n",
       "      <td>Cristiano Ronaldo</td>\n",
       "      <td>Neymar</td>\n",
       "      <td>Dybala Paulo</td>\n",
       "    </tr>\n",
       "    <tr>\n",
       "      <th>3</th>\n",
       "      <td>Captain</td>\n",
       "      <td>Andorra</td>\n",
       "      <td>Lima Sola Ildefons</td>\n",
       "      <td>Neymar</td>\n",
       "      <td>Modric Luka</td>\n",
       "      <td>Buffon Gianluigi</td>\n",
       "    </tr>\n",
       "    <tr>\n",
       "      <th>4</th>\n",
       "      <td>Captain</td>\n",
       "      <td>Angola</td>\n",
       "      <td>Gaspar Wilson Pinto</td>\n",
       "      <td>Cristiano Ronaldo</td>\n",
       "      <td>Ramos Sergio</td>\n",
       "      <td>Modric Luka</td>\n",
       "    </tr>\n",
       "  </tbody>\n",
       "</table>\n",
       "</div>"
      ],
      "text/plain": [
       "      Vote         Country                 Name              First  \\\n",
       "0  Captain         Albania          Agolli Ansi  Cristiano Ronaldo   \n",
       "1  Captain         Algeria      Mbolhi Adi Rais  Cristiano Ronaldo   \n",
       "2  Captain  American Samoa            Ott Ramin  Cristiano Ronaldo   \n",
       "3  Captain         Andorra   Lima Sola Ildefons             Neymar   \n",
       "4  Captain          Angola  Gaspar Wilson Pinto  Cristiano Ronaldo   \n",
       "\n",
       "             Second             Third  \n",
       "0      Messi Lionel  Buffon Gianluigi  \n",
       "1  Buffon Gianluigi      Messi Lionel  \n",
       "2            Neymar      Dybala Paulo  \n",
       "3       Modric Luka  Buffon Gianluigi  \n",
       "4      Ramos Sergio       Modric Luka  "
      ]
     },
     "execution_count": 4,
     "metadata": {},
     "output_type": "execute_result"
    }
   ],
   "source": [
    "# table structure is as following\n",
    "df.head()"
   ]
  },
  {
   "cell_type": "code",
   "execution_count": 52,
   "metadata": {},
   "outputs": [
    {
     "name": "stdout",
     "output_type": "stream",
     "text": [
      "Occurances 459 == 459\n",
      "Carvajal result with sumx=459 \t==> 0.2178649237472767\n",
      "Carvajal result with sumx=457 \t==> 0.2188183807439825\n",
      "Carvajal result by FIFA \t=>  0.62\n"
     ]
    }
   ],
   "source": [
    "# let us verify our conversion to csv, following occurance numbers are based on count in the original pdf [3]\n",
    "cpt = 4*33 + 19\n",
    "coach = 4*33 + 20\n",
    "media = 3*33 + 30 + 27\n",
    "\n",
    "sumx = cpt+media+coach\n",
    "\n",
    "print('Occurances {} == {}'.format(sumx, len(df)))\n",
    "\n",
    "# Carvajal is easy to verify as it appears only 3 times in the vote summary (3 times on second place i.e. 9 pts)\n",
    "print('Carvajal result with sumx={} \\t==> {}'.format(sumx, 100*9/(sumx*9)))\n",
    "\n",
    "# we remove Kuwait and Guatemala\n",
    "sumx-=2\n",
    "print('Carvajal result with sumx={} \\t==> {}'.format(sumx, 100*9/(sumx*9)))\n",
    "\n",
    "# result from [2]\n",
    "print('Carvajal result by FIFA \\t=>  0.62')\n"
   ]
  },
  {
   "cell_type": "code",
   "execution_count": 5,
   "metadata": {},
   "outputs": [
    {
     "data": {
      "text/plain": [
       "Cristiano Ronaldo            340\n",
       "Messi Lionel                  55\n",
       "Neymar                        15\n",
       "Buffon Gianluigi               8\n",
       "Kroos Toni                     7\n",
       "Aubameyang Pierre-Emerick      6\n",
       "Ramos Sergio                   6\n",
       "Modric Luka                    5\n",
       "Suárez Luis                    4\n",
       "Kanté N'Golo                   3\n",
       "Navas Keylor                   2\n",
       "Lewandowski Robert             2\n",
       "Ibrahimovic Zlatan             2\n",
       "Neuer Manuel                   2\n",
       "Hazard Eden                    1\n",
       "Kane Harry                     1\n",
       "Name: First, dtype: int64"
      ]
     },
     "execution_count": 5,
     "metadata": {},
     "output_type": "execute_result"
    }
   ],
   "source": [
    "# how many times a player was put on the first position\n",
    "df.First.value_counts()"
   ]
  },
  {
   "cell_type": "code",
   "execution_count": 6,
   "metadata": {},
   "outputs": [
    {
     "name": "stdout",
     "output_type": "stream",
     "text": [
      "9.80% of votes did not include Ronaldo\n",
      "36.60% of votes did not include Messi\n"
     ]
    }
   ],
   "source": [
    "# votes without Ronaldo and Messi\n",
    "# sidenote: am I the only one iritated by the fact that Ronaldo is the only player with natural Surename and Name order?\n",
    "no_ronaldo = df[df.apply(lambda x: 'Cristiano Ronaldo' not in [x['First'], x['Second'], x['Third']], axis='columns')]\n",
    "no_messi = df[df.apply(lambda x: 'Messi Lionel' not in [x['First'], x['Second'], x['Third']], axis='columns')]\n",
    "\n",
    "print('{0:.2f}% of votes did not include Ronaldo'.format(100*len(no_ronaldo)/len(df)))\n",
    "print('{0:.2f}% of votes did not include Messi'.format(100*len(no_messi)/len(df)))\n"
   ]
  },
  {
   "cell_type": "code",
   "execution_count": 7,
   "metadata": {},
   "outputs": [
    {
     "data": {
      "text/plain": [
       "Coach      22\n",
       "Captain    16\n",
       "Media       7\n",
       "Name: Vote, dtype: int64"
      ]
     },
     "execution_count": 7,
     "metadata": {},
     "output_type": "execute_result"
    }
   ],
   "source": [
    "# who don't like Ronaldo by category\n",
    "no_ronaldo.Vote.value_counts()"
   ]
  },
  {
   "cell_type": "code",
   "execution_count": 8,
   "metadata": {},
   "outputs": [
    {
     "data": {
      "text/plain": [
       "Captain    58\n",
       "Media      57\n",
       "Coach      53\n",
       "Name: Vote, dtype: int64"
      ]
     },
     "execution_count": 8,
     "metadata": {},
     "output_type": "execute_result"
    }
   ],
   "source": [
    "# and same for Messi by category\n",
    "no_messi.Vote.value_counts()"
   ]
  },
  {
   "cell_type": "code",
   "execution_count": 54,
   "metadata": {},
   "outputs": [
    {
     "data": {
      "text/plain": [
       "Cristiano Ronaldo    340\n",
       "Messi Lionel          55\n",
       "Neymar                15\n",
       "Buffon Gianluigi       8\n",
       "Kroos Toni             7\n",
       "Name: First, dtype: int64"
      ]
     },
     "execution_count": 54,
     "metadata": {},
     "output_type": "execute_result"
    }
   ],
   "source": [
    "# let us prepare table with number of how many times a player was put in each poistion (first, second, third)\n",
    "# e.g how many times each player name occured in the 'First' column:\n",
    "df.First.value_counts().head()"
   ]
  },
  {
   "cell_type": "code",
   "execution_count": 9,
   "metadata": {},
   "outputs": [],
   "source": [
    "# pivoting the table to get summaries by player\n",
    "nf = pd.DataFrame(df.First.value_counts())\n",
    "nf2 = pd.DataFrame(df.Second.value_counts())\n",
    "nf3 = pd.DataFrame(df.Third.value_counts())\n",
    "\n",
    "res = nf.join((nf2.join(nf3, how='outer')), how='outer')\n",
    "\n",
    "# for some reason some columns are float and not int, so let us fix it\n",
    "# if the player was never present on given place we set the value to 0.0\n",
    "res.fillna(0.0, inplace=True)\n",
    "res = res.astype(int)"
   ]
  },
  {
   "cell_type": "code",
   "execution_count": 10,
   "metadata": {},
   "outputs": [],
   "source": [
    "# calculate number of votes and points according to FIFA rules (first == 5 pts, second = 3 pts, third = 1pt)\n",
    "res['Occurances'] = res.First + res.Second + res.Third\n",
    "res['Points'] = res.First * 5 + res.Second * 3 + res.Third"
   ]
  },
  {
   "cell_type": "code",
   "execution_count": 11,
   "metadata": {},
   "outputs": [
    {
     "data": {
      "text/plain": [
       "Cristiano Ronaldo            1888\n",
       "Messi Lionel                  823\n",
       "Buffon Gianluigi              317\n",
       "Neymar                        298\n",
       "Ramos Sergio                  126\n",
       "Modric Luka                   115\n",
       "Kroos Toni                     76\n",
       "Kanté N'Golo                   63\n",
       "Aubameyang Pierre-Emerick      56\n",
       "Hazard Eden                    42\n",
       "Name: Points, dtype: int64"
      ]
     },
     "execution_count": 11,
     "metadata": {},
     "output_type": "execute_result"
    }
   ],
   "source": [
    "# top 10 with most points\n",
    "res.Points.sort_values(ascending=False).head(10)"
   ]
  },
  {
   "cell_type": "code",
   "execution_count": 18,
   "metadata": {},
   "outputs": [
    {
     "data": {
      "text/plain": [
       "Cristiano Ronaldo            45.703220\n",
       "Messi Lionel                 19.922537\n",
       "Buffon Gianluigi              7.673687\n",
       "Neymar                        7.213750\n",
       "Ramos Sergio                  3.050109\n",
       "Modric Luka                   2.783830\n",
       "Kroos Toni                    1.839748\n",
       "Kanté N'Golo                  1.525054\n",
       "Aubameyang Pierre-Emerick     1.355604\n",
       "Hazard Eden                   1.016703\n",
       "Marcelo                       0.944081\n",
       "Suárez Luis                   0.847252\n",
       "Ibrahimovic Zlatan            0.750424\n",
       "Lewandowski Robert            0.702009\n",
       "Dybala Paulo                  0.629388\n",
       "Griezmann Antoine             0.605180\n",
       "Neuer Manuel                  0.532559\n",
       "Iniesta Andrés                0.508351\n",
       "Vidal Arturo                  0.508351\n",
       "Bonucci Leonardo              0.484144\n",
       "Navas Keylor                  0.435730\n",
       "Sanchez Alexis                0.387315\n",
       "Kane Harry                    0.363108\n",
       "Carvajal Dani                 0.217865\n",
       "Name: Points, dtype: float64"
      ]
     },
     "execution_count": 18,
     "metadata": {},
     "output_type": "execute_result"
    }
   ],
   "source": [
    "# points summary, compare to [2]\n",
    "points_total = len(df)*9 \n",
    "relative = 100*res.Points/points_total\n",
    "relative.sort_values(ascending=False)"
   ]
  },
  {
   "cell_type": "code",
   "execution_count": 13,
   "metadata": {},
   "outputs": [
    {
     "data": {
      "text/plain": [
       "Carvajal Dani          3\n",
       "Navas Keylor           6\n",
       "Kane Harry             7\n",
       "Neuer Manuel           8\n",
       "Vidal Arturo           9\n",
       "Griezmann Antoine      9\n",
       "Sanchez Alexis        10\n",
       "Iniesta Andrés        11\n",
       "Bonucci Leonardo      12\n",
       "Ibrahimovic Zlatan    13\n",
       "Name: Occurances, dtype: int64"
      ]
     },
     "execution_count": 13,
     "metadata": {},
     "output_type": "execute_result"
    }
   ],
   "source": [
    "# top 10 least popular players\n",
    "res.Occurances.sort_values().head(10)"
   ]
  }
 ],
 "metadata": {
  "kernelspec": {
   "display_name": "Python 3",
   "language": "python",
   "name": "python3"
  },
  "language_info": {
   "codemirror_mode": {
    "name": "ipython",
    "version": 3
   },
   "file_extension": ".py",
   "mimetype": "text/x-python",
   "name": "python",
   "nbconvert_exporter": "python",
   "pygments_lexer": "ipython3",
   "version": "3.6.2"
  }
 },
 "nbformat": 4,
 "nbformat_minor": 2
}
