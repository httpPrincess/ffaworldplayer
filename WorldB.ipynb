{
 "cells": [
  {
   "cell_type": "code",
   "execution_count": 25,
   "metadata": {},
   "outputs": [],
   "source": [
    "stop_words = ['Vote', 'Country', 'Name', 'First (5 points)', 'Second (3 points)', 'Third (1 point)']"
   ]
  },
  {
   "cell_type": "code",
   "execution_count": 45,
   "metadata": {},
   "outputs": [],
   "source": [
    "def get_values_for(f, curr_word):\n",
    "    processing_active = False\n",
    "    for line in f:\n",
    "        line = line.strip()\n",
    "        if line.startswith(curr_word):\n",
    "            processing_active = True\n",
    "            continue\n",
    "\n",
    "        if line=='':            \n",
    "            processing_active = False\n",
    "            continue\n",
    "        \n",
    "        if '/' in line:\n",
    "            continue\n",
    "\n",
    "        if processing_active:\n",
    "            yield line\n",
    "        "
   ]
  },
  {
   "cell_type": "code",
   "execution_count": 48,
   "metadata": {},
   "outputs": [],
   "source": [
    "fname = './fwd.txt'\n",
    "f = open(fname, 'r')\n",
    "\n",
    "data = dict()\n",
    "for word in stop_words:\n",
    "    f.seek(0)\n",
    "    data[word] = list(get_values_for(f, word))\n"
   ]
  },
  {
   "cell_type": "code",
   "execution_count": 49,
   "metadata": {},
   "outputs": [
    {
     "name": "stdout",
     "output_type": "stream",
     "text": [
      "Vote --> 459\n",
      "Country --> 459\n",
      "Name --> 459\n",
      "First (5 points) --> 459\n",
      "Second (3 points) --> 459\n",
      "Third (1 point) --> 459\n"
     ]
    }
   ],
   "source": [
    "for k, v in data.items():\n",
    "    print('{} --> {}'.format(k, len(v)))"
   ]
  },
  {
   "cell_type": "code",
   "execution_count": 1,
   "metadata": {},
   "outputs": [],
   "source": [
    "import pandas as pd"
   ]
  },
  {
   "cell_type": "code",
   "execution_count": 57,
   "metadata": {},
   "outputs": [],
   "source": [
    "df = pd.DataFrame.from_dict(data, orient='columns')"
   ]
  },
  {
   "cell_type": "code",
   "execution_count": 66,
   "metadata": {},
   "outputs": [],
   "source": [
    "df.rename(columns={'First (5 points)': 'First', 'Second (3 points)': 'Second', 'Third (1 point)': 'Third'}, inplace=True)"
   ]
  },
  {
   "cell_type": "code",
   "execution_count": 69,
   "metadata": {},
   "outputs": [],
   "source": [
    "df =df[['Vote', 'Country', 'Name', 'First', 'Second', 'Thirds']]"
   ]
  },
  {
   "cell_type": "code",
   "execution_count": 12,
   "metadata": {},
   "outputs": [
    {
     "data": {
      "text/plain": [
       "Media      156\n",
       "Coach      152\n",
       "Captain    151\n",
       "Name: Vote, dtype: int64"
      ]
     },
     "execution_count": 12,
     "metadata": {},
     "output_type": "execute_result"
    }
   ],
   "source": [
    "df.Vote.value_counts()"
   ]
  },
  {
   "cell_type": "code",
   "execution_count": 227,
   "metadata": {},
   "outputs": [],
   "source": [
    "df.to_csv('./player-votes.csv')"
   ]
  },
  {
   "cell_type": "code",
   "execution_count": 2,
   "metadata": {},
   "outputs": [],
   "source": [
    "df = pd.read_csv('./player-votes.csv', index_col=0)"
   ]
  },
  {
   "cell_type": "code",
   "execution_count": 3,
   "metadata": {},
   "outputs": [
    {
     "data": {
      "text/plain": [
       "Cristiano Ronaldo            340\n",
       "Messi Lionel                  55\n",
       "Neymar                        15\n",
       "Buffon Gianluigi               8\n",
       "Kroos Toni                     7\n",
       "Aubameyang Pierre-Emerick      6\n",
       "Ramos Sergio                   6\n",
       "Modric Luka                    5\n",
       "Suárez Luis                    4\n",
       "Kanté N'Golo                   3\n",
       "Navas Keylor                   2\n",
       "Neuer Manuel                   2\n",
       "Lewandowski Robert             2\n",
       "Ibrahimovic Zlatan             2\n",
       "Hazard Eden                    1\n",
       "Kane Harry                     1\n",
       "Name: First, dtype: int64"
      ]
     },
     "execution_count": 3,
     "metadata": {},
     "output_type": "execute_result"
    }
   ],
   "source": [
    "df.First.value_counts()"
   ]
  },
  {
   "cell_type": "code",
   "execution_count": 4,
   "metadata": {},
   "outputs": [
    {
     "name": "stdout",
     "output_type": "stream",
     "text": [
      "9.803921568627452% of votes did not include Ronaldo\n",
      "36.60130718954248% of votes did not include Messi\n"
     ]
    }
   ],
   "source": [
    "# Votes without Ronaldo and Messi\n",
    "no_ronaldo = df[df.apply(lambda x: 'Cristiano Ronaldo' not in [x['First'], x['Second'], x['Third']], axis='columns')]\n",
    "no_messi = df[df.apply(lambda x: 'Messi Lionel' not in [x['First'], x['Second'], x['Third']], axis='columns')]\n",
    "\n",
    "print('{}% of votes did not include Ronaldo'.format(100*len(no_ronaldo)/len(df)))\n",
    "print('{}% of votes did not include Messi'.format(100*len(no_messi)/len(df)))\n"
   ]
  },
  {
   "cell_type": "code",
   "execution_count": 84,
   "metadata": {},
   "outputs": [],
   "source": [
    "# pivoting the table to get summaries by player\n",
    "def pivot_it(df):\n",
    "    nf = pd.DataFrame(df.First.value_counts())\n",
    "    nf2 = pd.DataFrame(df.Second.value_counts())\n",
    "    nf3 = pd.DataFrame(df.Third.value_counts())\n",
    "\n",
    "    res = nf.join((nf2.join(nf3, how='outer')), how='outer')\n",
    "    # for some reason some columns are float and not int\n",
    "    res.fillna(0.0, inplace=True)\n",
    "    return res.astype(int)\n",
    "\n",
    "def add_points(df):\n",
    "    # calculate number of votes and points according to FIFA rules (first == 5 pts, second = 3 pts, third = 1pt)\n",
    "    res = df.copy()\n",
    "    res['Occurances'] = df.First + df.Second + df.Third\n",
    "    res['Points'] = df.First * 5 + df.Second * 3 + df.Third\n",
    "    all_points = res.Points.sum()\n",
    "    res['RelativePoints'] = res['Points'] / all_points\n",
    "    return res\n",
    "\n",
    "def get_results_for(df):\n",
    "    return add_points(pivot_it(df))"
   ]
  },
  {
   "cell_type": "code",
   "execution_count": 69,
   "metadata": {},
   "outputs": [
    {
     "name": "stdout",
     "output_type": "stream",
     "text": [
      "\n",
      "Results for role Captain\n",
      "Cristiano Ronaldo    605\n",
      "Messi Lionel         255\n",
      "Neymar               114\n",
      "Buffon Gianluigi      83\n",
      "Name: Points, dtype: int64\n",
      "\n",
      "Results for role Coach\n",
      "Cristiano Ronaldo    586\n",
      "Messi Lionel         301\n",
      "Neymar               108\n",
      "Buffon Gianluigi      80\n",
      "Name: Points, dtype: int64\n",
      "\n",
      "Results for role Media\n",
      "Cristiano Ronaldo    697\n",
      "Messi Lionel         267\n",
      "Buffon Gianluigi     154\n",
      "Neymar                76\n",
      "Name: Points, dtype: int64\n"
     ]
    }
   ],
   "source": [
    "# who would win in each group (i.e. Couches, Playes, Media)\n",
    "\n",
    "for role in df.Vote.unique():\n",
    "    tmp_table = df.loc[df.Vote==role]\n",
    "    tmp_table = get_results_for(tmp_table)\n",
    "    print('\\nResults for role {}'.format(role))\n",
    "    print(tmp_table.Points.sort_values(ascending=False).head(4))\n"
   ]
  },
  {
   "cell_type": "code",
   "execution_count": 22,
   "metadata": {},
   "outputs": [
    {
     "data": {
      "text/plain": [
       "Cristiano Ronaldo            1888\n",
       "Messi Lionel                  823\n",
       "Buffon Gianluigi              317\n",
       "Neymar                        298\n",
       "Ramos Sergio                  126\n",
       "Modric Luka                   115\n",
       "Kroos Toni                     76\n",
       "Kanté N'Golo                   63\n",
       "Aubameyang Pierre-Emerick      56\n",
       "Hazard Eden                    42\n",
       "Name: Points, dtype: int64"
      ]
     },
     "execution_count": 22,
     "metadata": {},
     "output_type": "execute_result"
    }
   ],
   "source": [
    "# top 10 with most points\n",
    "res.Points.sort_values(ascending=False).head(10)"
   ]
  },
  {
   "cell_type": "code",
   "execution_count": 224,
   "metadata": {},
   "outputs": [
    {
     "data": {
      "text/plain": [
       "Carvajal Dani          3\n",
       "Navas Keylor           6\n",
       "Kane Harry             7\n",
       "Neuer Manuel           8\n",
       "Vidal Arturo           9\n",
       "Griezmann Antoine      9\n",
       "Sanchez Alexis        10\n",
       "Iniesta Andrés        11\n",
       "Bonucci Leonardo      12\n",
       "Ibrahimovic Zlatan    13\n",
       "Name: Occurances, dtype: int64"
      ]
     },
     "execution_count": 224,
     "metadata": {},
     "output_type": "execute_result"
    }
   ],
   "source": [
    "# top 10 least popular players\n",
    "res.Occurances.sort_values().head(10)"
   ]
  },
  {
   "cell_type": "code",
   "execution_count": 74,
   "metadata": {},
   "outputs": [],
   "source": [
    "url2 = 'https://raw.githubusercontent.com/lukes/ISO-3166-Countries-with-Regional-Codes/master/all/all.csv'\n",
    "\n",
    "country_region = pd.read_csv(url2)\n",
    "country_region = country_region[['name', 'region', 'sub-region']]\n",
    "country_region.rename(columns={'name':'Country', 'region':'Region', 'sub-region': 'Sub-Region'}, inplace=True)\n",
    "country_region.set_index('Country', inplace=True)"
   ]
  },
  {
   "cell_type": "code",
   "execution_count": 75,
   "metadata": {},
   "outputs": [],
   "source": [
    "\n",
    "df_extend = df.join(country_region, on='Country', how='left')"
   ]
  },
  {
   "cell_type": "code",
   "execution_count": 76,
   "metadata": {},
   "outputs": [
    {
     "data": {
      "text/html": [
       "<div>\n",
       "<style>\n",
       "    .dataframe thead tr:only-child th {\n",
       "        text-align: right;\n",
       "    }\n",
       "\n",
       "    .dataframe thead th {\n",
       "        text-align: left;\n",
       "    }\n",
       "\n",
       "    .dataframe tbody tr th {\n",
       "        vertical-align: top;\n",
       "    }\n",
       "</style>\n",
       "<table border=\"1\" class=\"dataframe\">\n",
       "  <thead>\n",
       "    <tr style=\"text-align: right;\">\n",
       "      <th></th>\n",
       "      <th>Vote</th>\n",
       "      <th>Country</th>\n",
       "      <th>Name</th>\n",
       "      <th>First</th>\n",
       "      <th>Second</th>\n",
       "      <th>Third</th>\n",
       "      <th>Region</th>\n",
       "      <th>Sub-Region</th>\n",
       "    </tr>\n",
       "  </thead>\n",
       "  <tbody>\n",
       "    <tr>\n",
       "      <th>0</th>\n",
       "      <td>Captain</td>\n",
       "      <td>Albania</td>\n",
       "      <td>Agolli Ansi</td>\n",
       "      <td>Cristiano Ronaldo</td>\n",
       "      <td>Messi Lionel</td>\n",
       "      <td>Buffon Gianluigi</td>\n",
       "      <td>Europe</td>\n",
       "      <td>Southern Europe</td>\n",
       "    </tr>\n",
       "    <tr>\n",
       "      <th>1</th>\n",
       "      <td>Captain</td>\n",
       "      <td>Algeria</td>\n",
       "      <td>Mbolhi Adi Rais</td>\n",
       "      <td>Cristiano Ronaldo</td>\n",
       "      <td>Buffon Gianluigi</td>\n",
       "      <td>Messi Lionel</td>\n",
       "      <td>Africa</td>\n",
       "      <td>Northern Africa</td>\n",
       "    </tr>\n",
       "    <tr>\n",
       "      <th>2</th>\n",
       "      <td>Captain</td>\n",
       "      <td>American Samoa</td>\n",
       "      <td>Ott Ramin</td>\n",
       "      <td>Cristiano Ronaldo</td>\n",
       "      <td>Neymar</td>\n",
       "      <td>Dybala Paulo</td>\n",
       "      <td>Oceania</td>\n",
       "      <td>Polynesia</td>\n",
       "    </tr>\n",
       "    <tr>\n",
       "      <th>3</th>\n",
       "      <td>Captain</td>\n",
       "      <td>Andorra</td>\n",
       "      <td>Lima Sola Ildefons</td>\n",
       "      <td>Neymar</td>\n",
       "      <td>Modric Luka</td>\n",
       "      <td>Buffon Gianluigi</td>\n",
       "      <td>Europe</td>\n",
       "      <td>Southern Europe</td>\n",
       "    </tr>\n",
       "    <tr>\n",
       "      <th>4</th>\n",
       "      <td>Captain</td>\n",
       "      <td>Angola</td>\n",
       "      <td>Gaspar Wilson Pinto</td>\n",
       "      <td>Cristiano Ronaldo</td>\n",
       "      <td>Ramos Sergio</td>\n",
       "      <td>Modric Luka</td>\n",
       "      <td>Africa</td>\n",
       "      <td>Middle Africa</td>\n",
       "    </tr>\n",
       "  </tbody>\n",
       "</table>\n",
       "</div>"
      ],
      "text/plain": [
       "      Vote         Country                 Name              First  \\\n",
       "0  Captain         Albania          Agolli Ansi  Cristiano Ronaldo   \n",
       "1  Captain         Algeria      Mbolhi Adi Rais  Cristiano Ronaldo   \n",
       "2  Captain  American Samoa            Ott Ramin  Cristiano Ronaldo   \n",
       "3  Captain         Andorra   Lima Sola Ildefons             Neymar   \n",
       "4  Captain          Angola  Gaspar Wilson Pinto  Cristiano Ronaldo   \n",
       "\n",
       "             Second             Third   Region       Sub-Region  \n",
       "0      Messi Lionel  Buffon Gianluigi   Europe  Southern Europe  \n",
       "1  Buffon Gianluigi      Messi Lionel   Africa  Northern Africa  \n",
       "2            Neymar      Dybala Paulo  Oceania        Polynesia  \n",
       "3       Modric Luka  Buffon Gianluigi   Europe  Southern Europe  \n",
       "4      Ramos Sergio       Modric Luka   Africa    Middle Africa  "
      ]
     },
     "execution_count": 76,
     "metadata": {},
     "output_type": "execute_result"
    }
   ],
   "source": [
    "df_extend.head()"
   ]
  },
  {
   "cell_type": "code",
   "execution_count": 85,
   "metadata": {},
   "outputs": [
    {
     "name": "stdout",
     "output_type": "stream",
     "text": [
      "\n",
      "Region: Europe\n",
      "                   First  Second  Third  Occurances  Points  RelativePoints\n",
      "Cristiano Ronaldo     84      12      4         100     460        0.460460\n",
      "Messi Lionel           9      33     17          59     161        0.161161\n",
      "Buffon Gianluigi       1      20     25          46      90        0.090090\n",
      "\n",
      "Region: Africa\n",
      "                   First  Second  Third  Occurances  Points  RelativePoints\n",
      "Cristiano Ronaldo     70      10      3          83     383        0.467643\n",
      "Messi Lionel          12      35     16          63     181        0.221001\n",
      "Neymar                 5       9     13          27      65        0.079365\n",
      "\n",
      "Region: Oceania\n",
      "                   First  Second  Third  Occurances  Points  RelativePoints\n",
      "Cristiano Ronaldo     12       6      2          20      80        0.423280\n",
      "Messi Lionel           5       7      2          14      48        0.253968\n",
      "Neymar                 1       4      5          10      22        0.116402\n",
      "\n",
      "Region: Americas\n",
      "                   First  Second  Third  Occurances  Points  RelativePoints\n",
      "Cristiano Ronaldo     45      10      4          59     259        0.405321\n",
      "Messi Lionel          11      20     11          42     126        0.197183\n",
      "Neymar                 3       8     11          22      50        0.078247\n",
      "\n",
      "Region: Asia\n",
      "                   First  Second  Third  Occurances  Points  RelativePoints\n",
      "Cristiano Ronaldo     70      14      3          87     395        0.466903\n",
      "Messi Lionel          16      35     17          68     202        0.238771\n",
      "Neymar                 1      17     18          36      74        0.087470\n",
      "\n",
      "Region: nan\n",
      "Empty DataFrame\n",
      "Columns: [First, Second, Third, Occurances, Points, RelativePoints]\n",
      "Index: []\n"
     ]
    }
   ],
   "source": [
    "for reg in df_extend.Region.unique():\n",
    "    print('\\nRegion: {}'.format(reg))\n",
    "    print(get_results_for(df_extend.loc[df_extend.Region==reg]).sort_values(by='Points', ascending=False).head(3))"
   ]
  },
  {
   "cell_type": "code",
   "execution_count": 86,
   "metadata": {},
   "outputs": [],
   "source": [
    "%matplotlib inline"
   ]
  },
  {
   "cell_type": "code",
   "execution_count": 87,
   "metadata": {},
   "outputs": [],
   "source": [
    "from matplotlib.pyplot import pie, axis, show"
   ]
  },
  {
   "cell_type": "code",
   "execution_count": 88,
   "metadata": {},
   "outputs": [],
   "source": [
    "rela = get_results_for(df)"
   ]
  },
  {
   "cell_type": "code",
   "execution_count": 89,
   "metadata": {},
   "outputs": [
    {
     "data": {
      "text/html": [
       "<div>\n",
       "<style>\n",
       "    .dataframe thead tr:only-child th {\n",
       "        text-align: right;\n",
       "    }\n",
       "\n",
       "    .dataframe thead th {\n",
       "        text-align: left;\n",
       "    }\n",
       "\n",
       "    .dataframe tbody tr th {\n",
       "        vertical-align: top;\n",
       "    }\n",
       "</style>\n",
       "<table border=\"1\" class=\"dataframe\">\n",
       "  <thead>\n",
       "    <tr style=\"text-align: right;\">\n",
       "      <th></th>\n",
       "      <th>First</th>\n",
       "      <th>Second</th>\n",
       "      <th>Third</th>\n",
       "      <th>Occurances</th>\n",
       "      <th>Points</th>\n",
       "      <th>RelativePoints</th>\n",
       "    </tr>\n",
       "  </thead>\n",
       "  <tbody>\n",
       "    <tr>\n",
       "      <th>Aubameyang Pierre-Emerick</th>\n",
       "      <td>6</td>\n",
       "      <td>4</td>\n",
       "      <td>14</td>\n",
       "      <td>24</td>\n",
       "      <td>56</td>\n",
       "      <td>0.013556</td>\n",
       "    </tr>\n",
       "    <tr>\n",
       "      <th>Bonucci Leonardo</th>\n",
       "      <td>0</td>\n",
       "      <td>4</td>\n",
       "      <td>8</td>\n",
       "      <td>12</td>\n",
       "      <td>20</td>\n",
       "      <td>0.004841</td>\n",
       "    </tr>\n",
       "    <tr>\n",
       "      <th>Buffon Gianluigi</th>\n",
       "      <td>8</td>\n",
       "      <td>66</td>\n",
       "      <td>79</td>\n",
       "      <td>153</td>\n",
       "      <td>317</td>\n",
       "      <td>0.076737</td>\n",
       "    </tr>\n",
       "    <tr>\n",
       "      <th>Carvajal Dani</th>\n",
       "      <td>0</td>\n",
       "      <td>3</td>\n",
       "      <td>0</td>\n",
       "      <td>3</td>\n",
       "      <td>9</td>\n",
       "      <td>0.002179</td>\n",
       "    </tr>\n",
       "    <tr>\n",
       "      <th>Cristiano Ronaldo</th>\n",
       "      <td>340</td>\n",
       "      <td>57</td>\n",
       "      <td>17</td>\n",
       "      <td>414</td>\n",
       "      <td>1888</td>\n",
       "      <td>0.457032</td>\n",
       "    </tr>\n",
       "  </tbody>\n",
       "</table>\n",
       "</div>"
      ],
      "text/plain": [
       "                           First  Second  Third  Occurances  Points  \\\n",
       "Aubameyang Pierre-Emerick      6       4     14          24      56   \n",
       "Bonucci Leonardo               0       4      8          12      20   \n",
       "Buffon Gianluigi               8      66     79         153     317   \n",
       "Carvajal Dani                  0       3      0           3       9   \n",
       "Cristiano Ronaldo            340      57     17         414    1888   \n",
       "\n",
       "                           RelativePoints  \n",
       "Aubameyang Pierre-Emerick        0.013556  \n",
       "Bonucci Leonardo                 0.004841  \n",
       "Buffon Gianluigi                 0.076737  \n",
       "Carvajal Dani                    0.002179  \n",
       "Cristiano Ronaldo                0.457032  "
      ]
     },
     "execution_count": 89,
     "metadata": {},
     "output_type": "execute_result"
    }
   ],
   "source": [
    "rela.head()"
   ]
  },
  {
   "cell_type": "code",
   "execution_count": 99,
   "metadata": {},
   "outputs": [
    {
     "data": {
      "text/plain": [
       "(-1.1208638231121117,\n",
       " 1.1009935239109971,\n",
       " -1.1247398924765113,\n",
       " 1.1036525038920384)"
      ]
     },
     "execution_count": 99,
     "metadata": {},
     "output_type": "execute_result"
    },
    {
     "data": {
      "image/png": "[encoded data removed]",
      "text/plain": [
       "<matplotlib.figure.Figure at 0x10f1929e8>"
      ]
     },
     "metadata": {},
     "output_type": "display_data"
    }
   ],
   "source": [
    "p = rela.RelativePoints.sort_values().plot(kind='pie')\n",
    "axis('equal')"
   ]
  },
  {
   "cell_type": "code",
   "execution_count": 102,
   "metadata": {},
   "outputs": [],
   "source": [
    "dta = rela.RelativePoints.sort_values(ascending=False)"
   ]
  },
  {
   "cell_type": "code",
   "execution_count": 114,
   "metadata": {},
   "outputs": [],
   "source": [
    "others = 1.0 - dta.head(10).sum()"
   ]
  },
  {
   "cell_type": "code",
   "execution_count": 115,
   "metadata": {},
   "outputs": [],
   "source": [
    "to_vis = dta.head(10)\n",
    "to_vis['others'] = others"
   ]
  },
  {
   "cell_type": "code",
   "execution_count": 117,
   "metadata": {},
   "outputs": [
    {
     "data": {
      "text/plain": [
       "(-1.1208638251609488,\n",
       " 1.1009935195544025,\n",
       " -1.1036525048265484,\n",
       " 1.1247398888176334)"
      ]
     },
     "execution_count": 117,
     "metadata": {},
     "output_type": "execute_result"
    },
    {
     "data": {
      "image/png": "[encoded data removed]",
      "text/plain": [
       "<matplotlib.figure.Figure at 0x10f241668>"
      ]
     },
     "metadata": {},
     "output_type": "display_data"
    }
   ],
   "source": [
    "to_vis.plot(kind='pie')\n",
    "axis('equal')"
   ]
  },
  {
   "cell_type": "code",
   "execution_count": 118,
   "metadata": {},
   "outputs": [],
   "source": [
    "def generate_pie_plot(df, how_many = 8):\n",
    "    dta = rela.RelativePoints.sort_values(ascending=False)\n",
    "    others = 1.0 - dta.head(how_many).sum()\n",
    "    to_vis = dta.head(how_many)\n",
    "    to_vis['others'] = others\n",
    "    return to_vis"
   ]
  },
  {
   "cell_type": "code",
   "execution_count": 121,
   "metadata": {},
   "outputs": [],
   "source": [
    "vis = generate_pie_plot(rela, 5)"
   ]
  },
  {
   "cell_type": "code",
   "execution_count": 122,
   "metadata": {},
   "outputs": [
    {
     "data": {
      "text/plain": [
       "<matplotlib.axes._subplots.AxesSubplot at 0x10f24e438>"
      ]
     },
     "execution_count": 122,
     "metadata": {},
     "output_type": "execute_result"
    },
    {
     "data": {
      "image/png": "[encoded data removed]",
      "text/plain": [
       "<matplotlib.figure.Figure at 0x10edbfda0>"
      ]
     },
     "metadata": {},
     "output_type": "display_data"
    }
   ],
   "source": [
    "vis.plot(kind='pie')"
   ]
  },
  {
   "cell_type": "code",
   "execution_count": 127,
   "metadata": {},
   "outputs": [
    {
     "data": {
      "image/png": "[encoded data removed]",
      "text/plain": [
       "<matplotlib.figure.Figure at 0x10f2a4cf8>"
      ]
     },
     "metadata": {},
     "output_type": "display_data"
    },
    {
     "data": {
      "image/png": "[encoded data removed]",
      "text/plain": [
       "<matplotlib.figure.Figure at 0x1133715c0>"
      ]
     },
     "metadata": {},
     "output_type": "display_data"
    },
    {
     "data": {
      "image/png": "[encoded data removed]",
      "text/plain": [
       "<matplotlib.figure.Figure at 0x1133c3588>"
      ]
     },
     "metadata": {},
     "output_type": "display_data"
    },
    {
     "data": {
      "image/png": "[encoded data removed]",
      "text/plain": [
       "<matplotlib.figure.Figure at 0x1134126a0>"
      ]
     },
     "metadata": {},
     "output_type": "display_data"
    },
    {
     "data": {
      "image/png": "[encoded data removed]",
      "text/plain": [
       "<matplotlib.figure.Figure at 0x11345a748>"
      ]
     },
     "metadata": {},
     "output_type": "display_data"
    }
   ],
   "source": [
    "import matplotlib.pyplot as plt\n",
    "\n",
    "i = 0;\n",
    "for reg in df_extend.Region.unique()[:-1]:\n",
    "    plt.figure(i)\n",
    "    i+=1    \n",
    "    res = get_results_for(df_extend.loc[df_extend.Region==reg]).sort_values(by='Points', ascending=False).head(3)\n",
    "    vis = generate_pie_plot(res, 5)\n",
    "    plt.pie(vis)\n",
    "    plt.title('Region: {}'.format(reg))\n",
    "    \n",
    "    \n",
    "plt.show()"
   ]
  },
  {
   "cell_type": "code",
   "execution_count": null,
   "metadata": {},
   "outputs": [],
   "source": []
  }
 ],
 "metadata": {
  "kernelspec": {
   "display_name": "Python 3",
   "language": "python",
   "name": "python3"
  },
  "language_info": {
   "codemirror_mode": {
    "name": "ipython",
    "version": 3
   },
   "file_extension": ".py",
   "mimetype": "text/x-python",
   "name": "python",
   "nbconvert_exporter": "python",
   "pygments_lexer": "ipython3",
   "version": "3.6.2"
  }
 },
 "nbformat": 4,
 "nbformat_minor": 2
}
